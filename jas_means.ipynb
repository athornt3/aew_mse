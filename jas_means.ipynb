{
 "cells": [
  {
   "cell_type": "markdown",
   "id": "20c31237-523a-47f4-9870-788c0a7572be",
   "metadata": {},
   "source": [
    "# Seasonal Means\n",
    "\n",
    "This notebook downloads and calculates the long term July, August, September (JAS) average as a single file, for each era5 variable \n",
    "\n",
    "- A. Thornton, Jul 2023"
   ]
  },
  {
   "cell_type": "code",
   "execution_count": 1,
   "id": "8ea9639f-fe74-45bf-980c-d9e2e524cd5d",
   "metadata": {},
   "outputs": [],
   "source": [
    "# Imports\n",
    "import numpy as np\n",
    "import xarray as xr\n",
    "import pandas as pd\n",
    "from datetime import date\n",
    "from numpy import absolute, exp, log\n",
    "\n",
    "from metpy.units import units\n",
    "import os\n",
    "import glob"
   ]
  },
  {
   "cell_type": "markdown",
   "id": "a52f79f8-635e-4708-ac9d-76a3e0b973fa",
   "metadata": {},
   "source": [
    "### Select variable\n",
    "Uncomment the 2 or 3 lines that correspond with the variable of choice"
   ]
  },
  {
   "cell_type": "code",
   "execution_count": null,
   "id": "8f586a98-52f3-42a2-b139-ea51d97ee815",
   "metadata": {},
   "outputs": [],
   "source": [
    "#Dry static energy\n",
    "varNam = 'dse'\n",
    "variab = 'DSE'\n",
    "\n",
    "#Moist static energy\n",
    "#varNam = 'mse'\n",
    "#variab = 'MSE'\n",
    "\n",
    "# Potential Vorticity\n",
    "#varId  = '060'\n",
    "#varNam = 'pv'\n",
    "#variab = 'PV'\n",
    "\n",
    "# Vorticity\n",
    "#varId  = '138'\n",
    "#varNam = 'vo'\n",
    "#variab = 'VO'\n",
    "\n",
    "# Specific humidity\n",
    "#varId  = '133'\n",
    "#varNam = 'q'\n",
    "#variab = 'Q'\n",
    "\n",
    "# Geopotential\n",
    "#varId  = '129'\n",
    "#varNam = 'z'\n",
    "#variab = 'Z'\n",
    "\n",
    "# Temperature\n",
    "#varId  = '130'\n",
    "#varNam = 't'\n",
    "#variab = 'T'\n",
    "\n",
    "# U-wind\n",
    "#varId  = '131'\n",
    "#varNam = 'u'\n",
    "#variab = 'U'\n",
    "\n",
    "# V-wind\n",
    "#varId  = '132'\n",
    "#varNam = 'v'\n",
    "#variab = 'V'\n",
    "\n",
    "# W-wind\n",
    "#varId  = '135'\n",
    "#varNam = 'w'\n",
    "#variab = 'W'\n",
    "\n",
    "# Surface sensible heat flux\n",
    "#varId  = '146'\n",
    "#varNam = 'sshf'\n",
    "#variab = 'SSHF'\n",
    "\n",
    "# Surface latent heat flux\n",
    "#varId  = '147'\n",
    "#varNam = 'slhf'\n",
    "#variab = 'SLHF'    \n",
    "\n",
    "# Surface net short-wave (solar) radiation \n",
    "#varId  = '176'\n",
    "#varNam = 'ssr'\n",
    "#variab = 'SSR'\n",
    "    \n",
    "# Surface net long-wave (thermal) radiation\n",
    "#varId  = '177'\n",
    "#varNam = 'str'\n",
    "#variab = 'STR'\n",
    "\n",
    "# Top net short-wave (solar) radiation\n",
    "#varId  = '178'\n",
    "#varNam = 'tsr'\n",
    "#variab = 'TSR'\n",
    "\n",
    "# Top net long-wave (thermal) radiation\n",
    "#varId  = '179'\n",
    "#varNam = 'ttr'\n",
    "#variab = 'TTR'"
   ]
  },
  {
   "cell_type": "markdown",
   "id": "570e203c-e621-4863-ad8d-092362b913c5",
   "metadata": {},
   "source": [
    "### Select subset of dates"
   ]
  },
  {
   "cell_type": "code",
   "execution_count": null,
   "id": "4346c91f-a0e5-4c6a-b25b-df69995dd3c6",
   "metadata": {},
   "outputs": [],
   "source": [
    "year_start  = 1998\n",
    "month_start = 7\n",
    "day_start   = 1\n",
    "\n",
    "year_end  = 2022\n",
    "month_end = 9\n",
    "day_end   = 30\n",
    "\n",
    "date_series = [pd.date_range(date(i,month_start,day_start),date(i,month_end,day_end), freq ='D') for i in range(year_start,year_end+1)]\n",
    "# date_series is a list of lists. Lets unpack it now\n",
    "dates_list = [element for sublist in date_series for element in sublist]"
   ]
  },
  {
   "cell_type": "markdown",
   "id": "15b55c7f-acfb-428f-8547-4bbead093611",
   "metadata": {},
   "source": [
    "### Read in all dates as one dataset"
   ]
  },
  {
   "cell_type": "code",
   "execution_count": null,
   "id": "4d38834f-58dd-41ce-a27b-6d81f016b1dc",
   "metadata": {},
   "outputs": [],
   "source": [
    "path_to_files = '/glade/scratch/athornton/era5_processed_data/2d/2d_updated/'\n",
    "os.chdir(path_to_files)\n",
    "infiles = [varNam+ '_' + date.strftime(\"%Y%m%d\") + '.nc' for date in dates_list]\n",
    "ds = xr.open_mfdataset(infiles)"
   ]
  },
  {
   "cell_type": "markdown",
   "id": "9a3d943e-35f1-4d02-8b30-a1618b1fdb83",
   "metadata": {},
   "source": [
    "### Calculate monthly mean"
   ]
  },
  {
   "cell_type": "code",
   "execution_count": null,
   "id": "5424c74a-558e-47cc-a4ca-c7b30f6f6034",
   "metadata": {},
   "outputs": [],
   "source": [
    "# keep_attrs retains units\n",
    "ds = ds.mean(dim='time', keep_attrs=True)\n",
    "ds = ds[variab].compute()"
   ]
  },
  {
   "cell_type": "markdown",
   "id": "d75f191b-5443-4335-928b-6d915b226f68",
   "metadata": {},
   "source": [
    "### Save and write file"
   ]
  },
  {
   "cell_type": "code",
   "execution_count": null,
   "id": "60f21406-a5af-436f-ac07-7bcbc7a32f76",
   "metadata": {},
   "outputs": [],
   "source": [
    "# PATH TO SAVE FILE\n",
    "path_out = '/glade/scratch/athornton/era5_processed_data/jas_means/'\n",
    "\n",
    "# SAVE FILE\n",
    "file_out = path_out + varNam+ '_' + 'jas_'+ str(year_start) + '_' + str(year_end) + '.nc'\n",
    "ds.to_netcdf(path=file_out)"
   ]
  }
 ],
 "metadata": {
  "kernelspec": {
   "display_name": "NPL 2023b",
   "language": "python",
   "name": "npl-2023b"
  },
  "language_info": {
   "codemirror_mode": {
    "name": "ipython",
    "version": 3
   },
   "file_extension": ".py",
   "mimetype": "text/x-python",
   "name": "python",
   "nbconvert_exporter": "python",
   "pygments_lexer": "ipython3",
   "version": "3.10.12"
  }
 },
 "nbformat": 4,
 "nbformat_minor": 5
}
