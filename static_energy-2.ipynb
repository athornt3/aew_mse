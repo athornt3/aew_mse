{
 "cells": [
  {
   "cell_type": "markdown",
   "id": "ebdd3d02-48e8-478b-888d-04c472bca262",
   "metadata": {},
   "source": [
    "# Static Energy\n",
    "Reads the regridded era5 files and calculates the moist static energy (MSE) and dry static energy (DSE) \n",
    "\n",
    "NCSU Tropical and Large Scale Dynamics\n",
    "- A. Aiyyer Jul 2023\n",
    "- A. Thornton Aug 2023"
   ]
  },
  {
   "cell_type": "code",
   "execution_count": 1,
   "id": "04cd7f2b-a467-4e76-92d6-4ab89025a738",
   "metadata": {},
   "outputs": [],
   "source": [
    "import numpy as np\n",
    "import xarray as xr\n",
    "import pandas as pd\n",
    "from datetime import date\n",
    "from numpy import absolute, exp, log\n",
    "\n",
    "# Any import of metpy will activate the accessors\n",
    "from metpy.units import units\n",
    "from metpy.calc import moist_static_energy, dry_static_energy\n",
    "import metpy.constants"
   ]
  },
  {
   "cell_type": "markdown",
   "id": "e9c8df8b-4267-4d4e-a49a-8ce06ad98536",
   "metadata": {},
   "source": [
    "### Paths to find and save data"
   ]
  },
  {
   "cell_type": "code",
   "execution_count": 2,
   "id": "f23fcc68-c85f-441f-a540-7086c2cfde08",
   "metadata": {},
   "outputs": [],
   "source": [
    "# path for the regridded data\n",
    "path_data = '/glade/scratch/athornton/era5_processed_data/3d/'\n",
    "\n",
    "# output path for mse and dse \n",
    "path_out = '/glade/scratch/athornton/era5_processed_data/3d/'"
   ]
  },
  {
   "cell_type": "markdown",
   "id": "64fe2a97-1893-46f2-ae6c-74d69fa8c8ad",
   "metadata": {},
   "source": [
    "### Select subset of dates"
   ]
  },
  {
   "cell_type": "code",
   "execution_count": 4,
   "id": "af89a461-879c-4bd9-9c60-7367b66ed867",
   "metadata": {},
   "outputs": [
    {
     "name": "stdout",
     "output_type": "stream",
     "text": [
      "19980301\n",
      "19980301\n"
     ]
    }
   ],
   "source": [
    "year_start  = 1998\n",
    "month_start = 3\n",
    "day_start   = 1\n",
    "\n",
    "year_end  = 1998\n",
    "month_end = 3\n",
    "day_end   = 1\n",
    "\n",
    "date_series = [pd.date_range(date(i,month_start,day_start),date(i,month_end,day_end), freq ='D') for i in range(year_start,year_end+1)]\n",
    "# date_series is a list of lists. Lets unpack it now\n",
    "dates_list = [element for sublist in date_series for element in sublist]\n",
    "\n",
    "print(dates_list[0].strftime(\"%Y%m%d\"))\n",
    "print(dates_list[-1].strftime(\"%Y%m%d\"))"
   ]
  },
  {
   "cell_type": "markdown",
   "id": "a7b18dba-eded-4e1b-a2ec-4a8c6b77237d",
   "metadata": {},
   "source": [
    "### Loop through each date and calculate both MSE/DSE"
   ]
  },
  {
   "cell_type": "code",
   "execution_count": 5,
   "id": "c3d09f63-2ba4-4254-ae1e-a8d31cc6c761",
   "metadata": {
    "tags": []
   },
   "outputs": [
    {
     "name": "stdout",
     "output_type": "stream",
     "text": [
      "1998-03-01 00:00:00\n"
     ]
    }
   ],
   "source": [
    "for a_date in dates_list:\n",
    "    print (a_date)\n",
    "    # read the variables needed for MSE\n",
    "    \n",
    "    infile = path_data + 't_' + a_date.strftime(\"%Y%m%d\") + '.nc'\n",
    "    ds = xr.open_dataset(infile)\n",
    "    tempK = ds.T.metpy.quantify()\n",
    "    ds.close()\n",
    "    \n",
    "    \n",
    "    infile = path_data + 'z_' + a_date.strftime(\"%Y%m%d\") + '.nc'\n",
    "    ds = xr.open_dataset(infile)\n",
    "    \n",
    "    # read and convert to geopotential height\n",
    "    geopot = ds.Z.metpy.quantify()/metpy.constants.earth_gravity\n",
    "    ds.close()\n",
    "    \n",
    "    \n",
    "    infile = path_data + 'q_' + a_date.strftime(\"%Y%m%d\") + '.nc'\n",
    "    ds = xr.open_dataset(infile)\n",
    "    sphum = ds.Q.metpy.quantify()\n",
    "    ds.close()\n",
    "    \n",
    "    mse =  moist_static_energy(geopot, tempK, sphum)\n",
    "    mse.name = 'MSE'\n",
    "    \n",
    "    dse =  dry_static_energy(geopot, tempK)\n",
    "    dse.name = 'DSE'\n",
    "    \n",
    "    #write to file (4x daily)\n",
    "    file_out = path_out + 'mse_' + a_date.strftime(\"%Y%m%d\") + '.nc'\n",
    "    \n",
    "    #dequantify is needed to correctly write out units into the netcdf file\n",
    "    #see: https://unidata.github.io/MetPy/latest/tutorials/xarray_tutorial.html\n",
    "    mse.metpy.dequantify().to_netcdf(path=file_out,  format='NETCDF4', mode='w')\n",
    " \n",
    "    #write to file (4x daily)\n",
    "    file_out = path_out + 'dse_' + a_date.strftime(\"%Y%m%d\") + '.nc'\n",
    "    #dse.metpy.dequantify().to_netcdf(path=file_out,  format='NETCDF4', mode='w')\n",
    " "
   ]
  },
  {
   "cell_type": "code",
   "execution_count": null,
   "id": "35c50d90-10c1-4f89-9d06-4ce1b422222e",
   "metadata": {},
   "outputs": [],
   "source": []
  }
 ],
 "metadata": {
  "kernelspec": {
   "display_name": "NPL 2023b",
   "language": "python",
   "name": "npl-2023b"
  },
  "language_info": {
   "codemirror_mode": {
    "name": "ipython",
    "version": 3
   },
   "file_extension": ".py",
   "mimetype": "text/x-python",
   "name": "python",
   "nbconvert_exporter": "python",
   "pygments_lexer": "ipython3",
   "version": "3.10.12"
  }
 },
 "nbformat": 4,
 "nbformat_minor": 5
}
