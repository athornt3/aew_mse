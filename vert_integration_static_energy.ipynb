{
 "cells": [
  {
   "cell_type": "markdown",
   "id": "7576b5b4-3dca-4d18-b5fe-e08b940c2d38",
   "metadata": {},
   "source": [
    "# Vertical Integration\n",
    "This code is specifically for vertically integrating terms that are not filtered. This portion of code was taken from the MSE_Budget_Pt1 code, where each term is calculated and vertically integrated in one go. Specifically we use this code to vertically integrate total MSE and DSE, which will be compared to each of the MSE_Budget terms.\n",
    "\n",
    " Code be used to compare to terms in MSE budget\n",
    " \n",
    " - NCSU Large Scale and Tropical Dynamics\n",
    " - Based on MSE Budget vertical integration provided by A. Aiyyer\n",
    "\n",
    "### Versions\n",
    " - A. Thornton & A. Aiyyer, Sep 5, 2023"
   ]
  },
  {
   "cell_type": "code",
   "execution_count": null,
   "id": "f8ae19f8-ca38-46bc-8230-d45489346a8f",
   "metadata": {},
   "outputs": [],
   "source": [
    "import numpy as np\n",
    "import xarray as xr\n",
    "import pandas as pd\n",
    "from datetime import date\n",
    "from numpy import absolute, exp, log\n",
    "\n",
    "# Any import of metpy will activate the accessors\n",
    "from metpy.units import units\n",
    "\n",
    "#from metpy.calc import dewpoint_from_relative_humidity\n",
    "from metpy.calc import first_derivative, geospatial_gradient, advection\n",
    "\n",
    "import metpy.constants as constants"
   ]
  },
  {
   "cell_type": "markdown",
   "id": "76ad063e-60ab-44a6-a9bc-568a7baa39be",
   "metadata": {},
   "source": [
    "### Path to calculated MSE & DSE"
   ]
  },
  {
   "cell_type": "code",
   "execution_count": null,
   "id": "1009f94c-b5ad-4bd8-ab40-261886e0f032",
   "metadata": {},
   "outputs": [],
   "source": [
    "path_full = '/glade/scratch/athornton/era5_processed_data/3d/' "
   ]
  },
  {
   "cell_type": "markdown",
   "id": "ec6ba402-d0b7-41a5-a2c1-7c5033011066",
   "metadata": {},
   "source": [
    "### Select subset of dates"
   ]
  },
  {
   "cell_type": "code",
   "execution_count": null,
   "id": "7783cae7-9294-4b49-860d-9644c442be30",
   "metadata": {},
   "outputs": [],
   "source": [
    "year_start  = 1998\n",
    "month_start = 3\n",
    "day_start   = 1\n",
    "\n",
    "year_end  = 2022\n",
    "month_end = 12\n",
    "day_end   = 31\n",
    "\n",
    "date_series = [pd.date_range(date(i,month_start,day_start),date(i,month_end,day_end), freq ='D') for i in range(year_start,year_end+1)]\n",
    "\n",
    "# date_series is a list of lists. Lets unpack it now\n",
    "dates_list = [element for sublist in date_series for element in sublist]\n",
    "print(dates_list[0].strftime(\"%Y%m%d\"))\n",
    "print(dates_list[-1].strftime(\"%Y%m%d\"))"
   ]
  },
  {
   "cell_type": "markdown",
   "id": "3bd581b7-92d2-433d-ae16-fbd257568243",
   "metadata": {},
   "source": [
    "### Mass-weighted vertical integral"
   ]
  },
  {
   "cell_type": "markdown",
   "id": "5a378c8b-ce49-4c39-b616-be895d755996",
   "metadata": {},
   "source": [
    "mass weighted vertical integral of a quantity\n",
    "\n",
    "\\begin{align}\n",
    "[A] = \\frac{1}{g}\\int_{ps}^{pt} A dp\n",
    "\\end{align}\n",
    "\n",
    "Which in practice is calculated as:\n",
    "\n",
    "\\begin{align}\n",
    "[A] = \\frac{1}{g} \\sum_i \\frac{(A[i+1] + A[i])}{2} (p[i]-p[i+1])\n",
    "\\end{align}\n",
    "\n",
    "Assuming pressure levels go from top (lowest, eg 100 hPa) to bottom (highest, eg. 1000 hPa)"
   ]
  },
  {
   "cell_type": "code",
   "execution_count": null,
   "id": "5f4570a7-6e79-4853-ae25-696fd45ad6e4",
   "metadata": {},
   "outputs": [],
   "source": [
    "def mass_weighted_vert_integral(data):\n",
    "    # data is expected to be on pressure levels\n",
    "    levels = (data.level*units(data.level.units)).metpy.convert_units('Pa')\n",
    "    deltaP = (levels - levels.shift(level=1)).metpy.convert_units('Pa')\n",
    "    vert_int_data = ((data.shift(level=1)+data)*.5*deltaP).sum(dim='level') / constants.earth_gravity   \n",
    "    return  vert_int_data"
   ]
  },
  {
   "cell_type": "code",
   "execution_count": null,
   "id": "800394b5-75a1-4ea0-b339-d10083a54b06",
   "metadata": {},
   "outputs": [],
   "source": [
    "def print_minmax(var_str, data):\n",
    "    print( var_str , ' min, max = ', data.min().values, data.max().values, data.metpy.units )\n",
    "    return"
   ]
  },
  {
   "cell_type": "markdown",
   "id": "6c44865f-731d-4d77-9d09-deb9b032c8c0",
   "metadata": {},
   "source": [
    "### Perform integration\n",
    "Loops through dates provided"
   ]
  },
  {
   "cell_type": "code",
   "execution_count": null,
   "id": "71e44daf-f784-4116-b2ec-6aa01146465c",
   "metadata": {},
   "outputs": [],
   "source": [
    "for a_date in dates_list:\n",
    "    print (a_date)\n",
    "    # Term 1\n",
    "    \n",
    "    # get the 4x daily mse\n",
    "    path_data = path_full + 'mse_' + a_date.strftime(\"%Y%m%d\") + '.nc'\n",
    "    ds = xr.open_dataset(path_data)\n",
    "    h = ds.MSE.metpy.convert_units('joule/kilogram')\n",
    "    \n",
    "    # get the 4x daily dse\n",
    "    path_data = path_full + 'dse_' + a_date.strftime(\"%Y%m%d\") + '.nc'\n",
    "    ds = xr.open_dataset(path_data)\n",
    "    s = ds.DSE.metpy.convert_units('joule/kilogram')\n",
    "    \n",
    "    #----------------------------------------------------------------------------------------   \n",
    "    # vertically integrated \n",
    "    path = '/glade/scratch/athornton/era5_processed_data/budget_terms/unfiltered_terms/'\n",
    "    \n",
    "    mse_vint = mass_weighted_vert_integral(h)\n",
    "    mse_vint.name = 'mse_vint'\n",
    "    file_out = path + 'mse_vint' + '_unfiltered_' + a_date.strftime(\"%Y%m%d\") + '.nc'\n",
    "    mse_vint.metpy.dequantify().to_netcdf(path=file_out, format='NETCDF4', mode='w')\n",
    "    \n",
    "    dse_vint = mass_weighted_vert_integral(s)\n",
    "    dse_vint.name = 'dse_vint'    \n",
    "    file_out = path + 'dse_vint' + '_unfiltered_' + a_date.strftime(\"%Y%m%d\") + '.nc'\n",
    "    dse_vint.metpy.dequantify().to_netcdf(path=file_out, format='NETCDF4', mode='w')\n",
    "    \n",
    "    print_minmax('dse_vint', dse_vint)    \n",
    "  "
   ]
  }
 ],
 "metadata": {
  "kernelspec": {
   "display_name": "Python 3 (ipykernel)",
   "language": "python",
   "name": "python3"
  },
  "language_info": {
   "codemirror_mode": {
    "name": "ipython",
    "version": 3
   },
   "file_extension": ".py",
   "mimetype": "text/x-python",
   "name": "python",
   "nbconvert_exporter": "python",
   "pygments_lexer": "ipython3",
   "version": "3.9.12"
  }
 },
 "nbformat": 4,
 "nbformat_minor": 5
}
